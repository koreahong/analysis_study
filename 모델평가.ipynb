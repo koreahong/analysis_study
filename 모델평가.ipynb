{
  "nbformat": 4,
  "nbformat_minor": 0,
  "metadata": {
    "colab": {
      "name": "모델평가.ipynb",
      "provenance": [],
      "authorship_tag": "ABX9TyPPcxLhLIE6OCVDBdnujpUh",
      "include_colab_link": true
    },
    "kernelspec": {
      "name": "python3",
      "display_name": "Python 3"
    },
    "language_info": {
      "name": "python"
    }
  },
  "cells": [
    {
      "cell_type": "markdown",
      "metadata": {
        "id": "view-in-github",
        "colab_type": "text"
      },
      "source": [
        "<a href=\"https://colab.research.google.com/github/koreahong/analysis_study/blob/main/%EB%AA%A8%EB%8D%B8%ED%8F%89%EA%B0%80.ipynb\" target=\"_parent\"><img src=\"https://colab.research.google.com/assets/colab-badge.svg\" alt=\"Open In Colab\"/></a>"
      ]
    },
    {
      "cell_type": "markdown",
      "metadata": {
        "id": "C5UseMAZNOei"
      },
      "source": [
        "# 분류평가\n",
        "|명칭|설명|주사용 상황|\n",
        "|:---:|:---|---|\n",
        "|오차행렬|매트릭스 형태로 정분류와 오분류를 보여주는 표| \n",
        "|정확도| 혼동행렬에서 정분류 / 전체의 확률| base 지표|\n",
        "|정밀도|참으로 예측한 것중 실제 참인 것| 거짓을 참으로 분류되면 큰일날 경우|\n",
        "|재현율(TPR)|실제 참인 것 중에 예측을 참으로 한 것|참을 거짓으로 분류되면 큰일날 경우|\n",
        "|F1 스코어|정밀도와 재현율을 결합한 지표| 2 * 정밀도 * 재현율 / 정밀도 + 재현율| \n",
        "|ROC|FPR(참으로 예측 중 거짓)과 TPR의 그래프|FPR이 작을때 TPR을 높이는 방법고안 필요|\n",
        "|AUC|roc곡선 적분값||\n",
        "\n",
        "# 회귀평가\n",
        "\n"
      ]
    },
    {
      "cell_type": "code",
      "metadata": {
        "id": "s9Y5ghuKUUnS"
      },
      "source": [
        "from sklearn.metrics import accuracy_score, confusion_matrix, \n",
        "                            precision_socre, recall_score, \n",
        "                            f1_score, roc_curve, roc_auc_score\n",
        "\n",
        "from sklearn.model_selection import train_test_split\n",
        "from sklearn.preprocessing import StandardScaler\n",
        "\n",
        "from sklearn.linear_model import LogisticRegression\n",
        "\n",
        "from sklearn.preprocessing import Binarizer"
      ],
      "execution_count": null,
      "outputs": []
    },
    {
      "cell_type": "code",
      "metadata": {
        "id": "272u4al3VZDY"
      },
      "source": [
        "ef get_eval_by_threshold(y_test , pred_proba_c1, thresholds):\n",
        "    # thresholds 리스트 객체내의 값을 차례로 iteration하면서 Evaluation 수행.\n",
        "    for custom_threshold in thresholds:\n",
        "        binarizer = Binarizer(threshold=custom_threshold).fit(pred_proba_c1) \n",
        "        custom_predict = binarizer.transform(pred_proba_c1)\n",
        "        print('임곗값:',custom_threshold)\n",
        "        get_clf_eval(y_test , custom_predict)\n",
        "\n",
        "# 피처 데이터 세트 X, 레이블 데이터 세트 y를 추출. \n",
        "# 맨 끝이 Outcome 컬럼으로 레이블 값임. 컬럼 위치 -1을 이용해 추출 \n",
        "X = diabetes_data.iloc[:, :-1]\n",
        "y = diabetes_data.iloc[:, -1]\n",
        "\n",
        "scaler = StandardScaler()\n",
        "X_scaled = scaler.fit_transform(X)\n",
        "\n",
        "X_train, X_test, y_train, y_test = train_test_split(X_scaled, y, test_size = 0.2, random_state = 156, stratify=y)\n",
        "\n",
        "# 로지스틱 회귀로 학습,예측 및 평가 수행. \n",
        "lr_clf = LogisticRegression()\n",
        "lr_clf.fit(X_train , y_train)\n",
        "pred = lr_clf.predict(X_test)\n",
        "get_clf_eval(y_test , pred)\n",
        "\n",
        "thresholds = [0.3 , 0.33 ,0.36,0.39, 0.42 , 0.45 ,0.48, 0.50]\n",
        "pred_proba = lr_clf.predict_proba(X_test)\n",
        "get_eval_by_threshold(y_test, pred_proba[:,1].reshape(-1,1), thresholds )"
      ],
      "execution_count": null,
      "outputs": []
    },
    {
      "cell_type": "code",
      "metadata": {
        "id": "G5-kbn0DVgCm"
      },
      "source": [
        "# 임곗값를 0.48로 설정한 Binarizer 생성\n",
        "binarizer = Binarizer(threshold=0.48)\n",
        "\n",
        "# 위에서 구한 lr_clf의 predict_proba() 예측 확률 array에서 1에 해당하는 컬럼값을 Binarizer변환. \n",
        "pred_th_048 = binarizer.fit_transform(pred_proba[:, 1].reshape(-1,1)) \n",
        "\n",
        "get_clf_eval(y_test , pred_th_048)"
      ],
      "execution_count": null,
      "outputs": []
    }
  ]
}