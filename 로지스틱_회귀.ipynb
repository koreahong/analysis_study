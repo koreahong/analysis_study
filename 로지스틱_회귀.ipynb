{
  "nbformat": 4,
  "nbformat_minor": 0,
  "metadata": {
    "colab": {
      "name": "로지스틱 회귀.ipynb",
      "provenance": [],
      "authorship_tag": "ABX9TyNemgt5acIc/SskuXn3LDeX",
      "include_colab_link": true
    },
    "kernelspec": {
      "name": "python3",
      "display_name": "Python 3"
    },
    "language_info": {
      "name": "python"
    }
  },
  "cells": [
    {
      "cell_type": "markdown",
      "metadata": {
        "id": "view-in-github",
        "colab_type": "text"
      },
      "source": [
        "<a href=\"https://colab.research.google.com/github/koreahong/regression_analysis_study/blob/main/%EB%A1%9C%EC%A7%80%EC%8A%A4%ED%8B%B1_%ED%9A%8C%EA%B7%80.ipynb\" target=\"_parent\"><img src=\"https://colab.research.google.com/assets/colab-badge.svg\" alt=\"Open In Colab\"/></a>"
      ]
    },
    {
      "cell_type": "markdown",
      "metadata": {
        "id": "dydteef0cbo5"
      },
      "source": [
        "참고자료\n",
        "\n",
        "[개념 사이트1](https://hleecaster.com/ml-logistic-regression-concept/)\n",
        "[시그모이드 개념](https://icim.nims.re.kr/post/easyMath/64)\n",
        "[개념 사이트2](https://nittaku.tistory.com/478)\n",
        "- 정의\n",
        "      -> 독립 변수의 선형 결합을 이용하여 사건의 발생 가능성을 예측하는데 사용되는 통계 기법\n",
        "      -> 최대우도추정 기법을 활용함\n",
        "         -> 최대우도추정 기법: 관측값이 주어졌을 때 변수들 중 그 관측값을 발생시켰을 가능성이 가장 높은 매개변수값들을 거꾸로 찾아내는 과정\n",
        "\n",
        "\n",
        "- 주요개념\n",
        "    - 최대우도추정법\n",
        "    - C통계량\n",
        "    - 승산비\n",
        "        - 0보다 1이 나올 확률\n",
        "        - log(p / 1 - p) = 회귀분석식\n",
        "    - 정보가치\n",
        "        - log(1인확률 / 0인확률)(1인확률 - 0인확률)\n",
        "\n",
        "      \n",
        "\n"
      ]
    },
    {
      "cell_type": "code",
      "metadata": {
        "id": "p6ln1f33cRfz"
      },
      "source": [
        ""
      ],
      "execution_count": null,
      "outputs": []
    }
  ]
}