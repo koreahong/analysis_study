{
  "nbformat": 4,
  "nbformat_minor": 0,
  "metadata": {
    "colab": {
      "name": "회귀분석 개념정리.ipynb",
      "provenance": [],
      "authorship_tag": "ABX9TyO4go8PUNh2P+x9QXTlfG0a",
      "include_colab_link": true
    },
    "kernelspec": {
      "name": "python3",
      "display_name": "Python 3"
    },
    "language_info": {
      "name": "python"
    }
  },
  "cells": [
    {
      "cell_type": "markdown",
      "metadata": {
        "id": "view-in-github",
        "colab_type": "text"
      },
      "source": [
        "<a href=\"https://colab.research.google.com/github/koreahong/regression_analysis_study/blob/main/%ED%9A%8C%EA%B7%80%EB%B6%84%EC%84%9D_%EA%B0%9C%EB%85%90%EC%A0%95%EB%A6%AC.ipynb\" target=\"_parent\"><img src=\"https://colab.research.google.com/assets/colab-badge.svg\" alt=\"Open In Colab\"/></a>"
      ]
    },
    {
      "cell_type": "markdown",
      "metadata": {
        "id": "9qXo9Ndxy-N_"
      },
      "source": [
        "# 회귀분석\n",
        "\n",
        "## 참고자료\n",
        "1. [회귀분석개념 참고사이트](https://nurilee.com/2020/01/26/data-science-model-summary-linear-ridge-lasso-elasticnet/)\n",
        "2. [분석결과표 참고사이트](https://ysyblog.tistory.com/119)\n",
        "3. [변수선택코드 참고사이트](https://zephyrus1111.tistory.com/65)\n",
        "4. [참고서적1](http://www.kyobobook.co.kr/product/detailViewKor.laf?ejkGb=KOR&mallGb=KOR&barcode=9791161751191)\n",
        "5. [참고서적2](http://www.kyobobook.co.kr/product/detailViewKor.laf?ejkGb=KOR&mallGb=KOR&barcode=9791158391928&orderClick=LEa&Kc=)\n",
        "\n",
        "\n",
        "-----------------------\n",
        "\n",
        "## 목차\n",
        "  - 회귀분석 정의 및 간단한 예시\n",
        "        - kg, puound 예시\n",
        "  - 종류\n",
        "        1. 전통적 통계기법\n",
        "            - 변수선택(VIF, p-value)\n",
        "        2. 머신러닝 기법\n",
        "            - alpha값 최적화\n",
        "            - 릿지, 라쏘, 엘라스틱넷\n",
        "\n",
        "        - 공통점\n",
        "            - 실제값과 예측치간의 오차 최소화\n",
        "        - 차이점\n",
        "            - 전통적 회귀분석: 설명변수를 최대한 적합시켜 오차를 줄이는 것이 목적\n",
        "            - 머신러닝 기법: 손실비용함수를 최적화시켜 오차를 줄이는 것이 목적\n",
        "\n",
        "\n",
        "\n"
      ]
    },
    {
      "cell_type": "markdown",
      "metadata": {
        "id": "Tzox1OUb6AdM"
      },
      "source": [
        "# 라이브러리 불러오기"
      ]
    },
    {
      "cell_type": "code",
      "metadata": {
        "id": "77hOKyfXcdDS"
      },
      "source": [
        "import numpy as np\n",
        "import pandas as pd\n",
        "\n",
        "import statsmodels.api as sm\n",
        "from statsmodels.stats.outliers_influence import variance_inflation_factor\n",
        "from scipy import *\n",
        "\n",
        "import seaborn as sns\n",
        "import matplotlib.pyplot as plt\n",
        "\n",
        "from sklearn.preprocessing import PolynomialFeatures\n",
        "\n",
        "from sklearn.linear_model import LinearRegression\n",
        "from sklearn.linear_model import Ridge, RidgeCV, Lasso, LassoCV, ElasticNet,ElasticNetCV\n",
        "\n",
        "from sklearn.model_selection import train_test_split\n",
        "from sklearn.metrics import r2_score\n",
        "from sklearn.metrics import mean_squared_error\n",
        "\n",
        "from sklearn.datasets import load_boston\n",
        "\n",
        "from patsy import dmatrix\n",
        "\n",
        "import copy\n",
        "\n",
        "\n",
        "import warnings\n",
        "warnings.filterwarnings(\"ignore\")"
      ],
      "execution_count": 23,
      "outputs": []
    },
    {
      "cell_type": "markdown",
      "metadata": {
        "id": "loV6j0RSXZj5"
      },
      "source": [
        "# 회귀분석 정의"
      ]
    },
    {
      "cell_type": "markdown",
      "metadata": {
        "id": "OLd6kQAnzXai"
      },
      "source": [
        "회귀분석이 무엇인지 간단하게 알아보고, 그 종류는 무엇이 있고 어떻게 다른지 알아보겠습니다.  \n",
        "\n",
        "선형회귀모델로 회귀분석을 알아보겠습니다.  \n",
        "선형회귀모델이란 'y = ax + b'와 같이 독립변수와 설명 변수간의 선형적관계로 있다는 것을 가정하고 분석하는 모델입니다.  \n",
        "\n"
      ]
    },
    {
      "cell_type": "code",
      "metadata": {
        "id": "7_4V3JW46HT1"
      },
      "source": [
        "kilograms = np.array([49, 10, 0, 21, 44, 2, 100], dtype=float).reshape((-1,1))\n",
        "pounds = np.array([108.027, 22.0462, 0, 46.2971, 97.0034, 4.40925, 220.462], dtype=float).reshape((-1,1))"
      ],
      "execution_count": 5,
      "outputs": []
    },
    {
      "cell_type": "markdown",
      "metadata": {
        "id": "5U2Ud2ZI7jSQ"
      },
      "source": [
        "위와 같이 pound로 kg을 예측 해보겠습니다."
      ]
    },
    {
      "cell_type": "code",
      "metadata": {
        "colab": {
          "base_uri": "https://localhost:8080/"
        },
        "id": "D_8zIJ-z7tnd",
        "outputId": "fc083ba4-273b-4029-e384-c5d27a76bf79"
      },
      "source": [
        "# 선형회귀모델 생성\n",
        "\n",
        "# sklearn 사용\n",
        "model1 = LinearRegression()\n",
        "# statsmodels 사용\n",
        "model2 = sm.OLS(kilograms, pounds)\n",
        "\n",
        "# 모델적합시키기\n",
        "model1.fit(pounds, kilograms)\n",
        "model2.fit()\n",
        "\n",
        "# y값 예측\n",
        "result1_kilograms = model1.predict([[30.0]])\n",
        "result2_kilograms = model1.predict([[30.0]])\n",
        "\n",
        "print(f\"model1 y값: {result1_kilograms}, model1 y값: {result2_kilograms}\")"
      ],
      "execution_count": 8,
      "outputs": [
        {
          "output_type": "stream",
          "name": "stdout",
          "text": [
            "model1 y값: [[13.6077453]], model1 y값: [[13.6077453]]\n"
          ]
        }
      ]
    },
    {
      "cell_type": "markdown",
      "metadata": {
        "id": "YnxM6ynb89np"
      },
      "source": [
        "실제로 30파운드가 13.6078kg인것을 감안하면 정확하게 예측을 하였습니다.  \n",
        "이처럼 설명변수(파운드)로 종속변수(kg)을 예측하는 방법을 회귀분석이라고 합니다.  "
      ]
    },
    {
      "cell_type": "markdown",
      "metadata": {
        "id": "bXj-bEYx9f_a"
      },
      "source": [
        "회귀분석 종류에 대해서 알아보겠습니다.  \n",
        "\n",
        "회귀분석의 방법으로는 전통적 통계기법과 머신러닝기법이 있습니다. \n",
        "전통적 통계기법은 설명변수들을 활용하여 최대한 y에 잘 적합시키는 방법입니다.\n",
        "그에 반면, 머신러닝 기법은 손실함수비용을 최적화시키는 것입니다.  \n",
        "\n",
        "위에 말이 어떤 뜻인지 코드로 알아보겠습니다.  \n",
        "\n",
        "우선 전통적 통계기법을 진행하겠습니다.  \n"
      ]
    },
    {
      "cell_type": "markdown",
      "metadata": {
        "id": "G5OGAuy2MiNR"
      },
      "source": [
        "# 실습"
      ]
    },
    {
      "cell_type": "markdown",
      "metadata": {
        "id": "KKhG-fOxXE-2"
      },
      "source": [
        "데이터는 sklearn의 보스턴 집값을 활용하겠습니다\n"
      ]
    },
    {
      "cell_type": "code",
      "metadata": {
        "id": "Y9mNtfB9XJ3Y"
      },
      "source": [
        "boston = load_boston()\n",
        "\n",
        "dfX0 = pd.DataFrame(boston.data, columns=boston.feature_names)\n",
        "\n",
        "\n",
        "formula = \"scale(CRIM) + scale(I(CRIM ** 2)) + \" + \\\n",
        "    \"scale(ZN) + scale(I(ZN ** 2)) + scale(INDUS) + \" + \\\n",
        "    \"scale(NOX) + scale(RM) + scale(AGE) + \" + \\\n",
        "    \"scale(np.log(DIS)) + scale(RAD) + scale(TAX) + \" + \\\n",
        "    \"scale(np.log(PTRATIO)) + scale(B) + scale(np.sqrt(LSTAT)) + CHAS\"\n",
        "dfX = dmatrix(formula, dfX0, return_type=\"dataframe\")\n",
        "dfy = pd.DataFrame(boston.target, columns=[\"MEDV\"])"
      ],
      "execution_count": null,
      "outputs": []
    },
    {
      "cell_type": "markdown",
      "metadata": {
        "id": "zcfSXftF_khq"
      },
      "source": [
        "이상치, null값, 상관관계, 히트맵등 모델생성전과정은 진행했다고 가정하고 바로 모델생성으로 넘어가겠습니다.  \n",
        "\n",
        "scale(): 정규화    \n",
        "** 2: 다항식으로 변환  \n",
        "C(): 범주형변수"
      ]
    },
    {
      "cell_type": "markdown",
      "metadata": {
        "id": "dVHnqQqjXQU2"
      },
      "source": [
        "## 1. 전통적 통계기법"
      ]
    },
    {
      "cell_type": "code",
      "metadata": {
        "id": "cy4LbMwN-FFn",
        "colab": {
          "base_uri": "https://localhost:8080/"
        },
        "outputId": "67d400d8-7ba9-47ac-b9e1-f13e01119bee"
      },
      "source": [
        "model1 = sm.OLS(np.log1p(dfy), dfX)\n",
        "result1 = model1.fit()\n",
        "print(result1.summary())"
      ],
      "execution_count": 10,
      "outputs": [
        {
          "output_type": "stream",
          "name": "stdout",
          "text": [
            "                            OLS Regression Results                            \n",
            "==============================================================================\n",
            "Dep. Variable:                   MEDV   R-squared:                       0.818\n",
            "Model:                            OLS   Adj. R-squared:                  0.812\n",
            "Method:                 Least Squares   F-statistic:                     146.8\n",
            "Date:                Thu, 09 Sep 2021   Prob (F-statistic):          2.76e-170\n",
            "Time:                        05:20:14   Log-Likelihood:                 194.00\n",
            "No. Observations:                 506   AIC:                            -356.0\n",
            "Df Residuals:                     490   BIC:                            -288.4\n",
            "Df Model:                          15                                         \n",
            "Covariance Type:            nonrobust                                         \n",
            "==========================================================================================\n",
            "                             coef    std err          t      P>|t|      [0.025      0.975]\n",
            "------------------------------------------------------------------------------------------\n",
            "Intercept                  3.0796      0.008    397.763      0.000       3.064       3.095\n",
            "scale(CRIM)               -0.2035      0.029     -6.923      0.000      -0.261      -0.146\n",
            "scale(I(CRIM ** 2))        0.0906      0.023      3.954      0.000       0.046       0.136\n",
            "scale(ZN)                 -0.0328      0.029     -1.119      0.264      -0.090       0.025\n",
            "scale(I(ZN ** 2))          0.0415      0.026      1.588      0.113      -0.010       0.093\n",
            "scale(INDUS)               0.0035      0.015      0.231      0.817      -0.026       0.033\n",
            "scale(NOX)                -0.1105      0.016     -6.745      0.000      -0.143      -0.078\n",
            "scale(RM)                  0.0451      0.011      4.208      0.000       0.024       0.066\n",
            "scale(AGE)                 0.0042      0.014      0.311      0.756      -0.022       0.031\n",
            "scale(np.log(DIS))        -0.1336      0.017     -7.741      0.000      -0.168      -0.100\n",
            "scale(RAD)                 0.1656      0.023      7.296      0.000       0.121       0.210\n",
            "scale(TAX)                -0.1095      0.022     -4.887      0.000      -0.153      -0.065\n",
            "scale(np.log(PTRATIO))    -0.0808      0.010     -7.858      0.000      -0.101      -0.061\n",
            "scale(B)                   0.0270      0.009      3.077      0.002       0.010       0.044\n",
            "scale(np.sqrt(LSTAT))     -0.2103      0.014    -15.351      0.000      -0.237      -0.183\n",
            "CHAS                       0.0851      0.030      2.792      0.005       0.025       0.145\n",
            "==============================================================================\n",
            "Omnibus:                       36.996   Durbin-Watson:                   1.183\n",
            "Prob(Omnibus):                  0.000   Jarque-Bera (JB):              137.043\n",
            "Skew:                           0.172   Prob(JB):                     1.74e-30\n",
            "Kurtosis:                       5.526   Cond. No.                         13.8\n",
            "==============================================================================\n",
            "\n",
            "Warnings:\n",
            "[1] Standard Errors assume that the covariance matrix of the errors is correctly specified.\n"
          ]
        }
      ]
    },
    {
      "cell_type": "markdown",
      "metadata": {
        "id": "Jk_2k3-YAGuV"
      },
      "source": [
        "위와 같이 결과표가 나왔습니다.  \n",
        "주요 해석 사항으로는 p-value, r^2값이 있습니다.  \n",
        "[결과표참고사이트](https://ysyblog.tistory.com/119)\n",
        "\n",
        "Adj. R-squared 값이 0.8로 유의미한 모델이라고 평가할 수 있습니다.  \n",
        "다만, 일분 변수들의 p-value값이 유의수준 0.05를 웃돌아 필요없는 변수를 제거하고 Cond No 값이 10이상인 것을 통해 다중공선성을 제거해야할 필요가 있다는 것을 알 수 있습니다.\n",
        "\n",
        "다중공선성을 침해하는 변수보다 불필요한 변수를 먼저 제거하고 다중공선성을 해치는 변수를 삭제하겠습니다. 다중공선성은 클경우 변수끼리 상관관계가 높을경우 과적합으로 설명계수 값이 높게 나오는 위험을 야기함으로 반드시 확인해야 합니다.  \n",
        "\n",
        "변수제거는 후진제거법을 통해 제거하겠습니다. \n",
        "변수제거는 전진제거법, 후진제거법, 단계적 제거법이 있습니다.  \n",
        "전진제거법은 유의미한 변수 순서대로 추가하는 방법입니다.  \n",
        "후진제거법은 불필요한 변수를 순서대로 제거한는 방법입니다. \n",
        "단계적 제거법은 전진제거법과 후진제거법을 결합한 형태로 변수마다 전진제거법과 후진제거법을 적용하는 방법입니다.  \n",
        "\n",
        "[변수선택코드참고](https://zephyrus1111.tistory.com/65)"
      ]
    },
    {
      "cell_type": "code",
      "metadata": {
        "id": "htKuQ2r7W_AR"
      },
      "source": [
        "df = dfX\n",
        "\n",
        "## 후진 소거법\n",
        "variables = df.columns.tolist() ## 설명 변수 리스트\n",
        " \n",
        "y = dfy ## 반응 변수\n",
        "selected_variables = variables ## 초기에는 모든 변수가 선택된 상태\n",
        "sl_remove = 0.05\n",
        " \n",
        "sv_per_step = [] ## 각 스텝별로 선택된 변수들\n",
        "adjusted_r_squared = [] ## 각 스텝별 수정된 결정계수\n",
        "steps = [] ## 스텝\n",
        "step = 0\n",
        "while len(selected_variables) > 0:\n",
        "    X = sm.add_constant(df[selected_variables])\n",
        "    p_vals = sm.OLS(y,X).fit().pvalues[1:] ## 절편항의 p-value는 뺀다\n",
        "    max_pval = p_vals.max() ## 최대 p-value\n",
        "    if max_pval >= sl_remove: ## 최대 p-value값이 기준값보다 크거나 같으면 제외\n",
        "        remove_variable = p_vals.idxmax()\n",
        "        selected_variables.remove(remove_variable)\n",
        " \n",
        "        step += 1\n",
        "        steps.append(step)\n",
        "        adj_r_squared = sm.OLS(y,sm.add_constant(df[selected_variables])).fit().rsquared_adj\n",
        "        adjusted_r_squared.append(adj_r_squared)\n",
        "        sv_per_step.append(selected_variables.copy())\n",
        "    else:\n",
        "        break"
      ],
      "execution_count": 11,
      "outputs": []
    },
    {
      "cell_type": "markdown",
      "metadata": {
        "id": "HZmW8bS_a39k"
      },
      "source": [
        "-----------------------------\n",
        "그래프 그리기"
      ]
    },
    {
      "cell_type": "code",
      "metadata": {
        "colab": {
          "base_uri": "https://localhost:8080/",
          "height": 785
        },
        "id": "BklvwRF_ZXIU",
        "outputId": "396fb9d1-391e-42fb-da39-ad4fff666c0c"
      },
      "source": [
        "fig = plt.figure(figsize=(10,10))\n",
        "fig.set_facecolor('white')\n",
        " \n",
        "font_size = 15\n",
        "plt.xticks(steps,[f'step {s}\\n'+'\\n'.join(sv_per_step[i]) for i,s in enumerate(steps)], fontsize=12)\n",
        "plt.plot(steps,adjusted_r_squared, marker='o')\n",
        "    \n",
        "plt.ylabel('Adjusted R Squared',fontsize=font_size)\n",
        "plt.grid(True)\n",
        "plt.show()"
      ],
      "execution_count": 12,
      "outputs": [
        {
          "output_type": "display_data",
          "data": {
            "image/png": "[encoded data removed]",
            "text/plain": [
              "<Figure size 720x720 with 1 Axes>"
            ]
          },
          "metadata": {}
        }
      ]
    },
    {
      "cell_type": "markdown",
      "metadata": {
        "id": "_uD0dOZSbNqv"
      },
      "source": [
        "추가로 ZN**2의 p-value값을 참고하여 변수를 제거하겠습니다."
      ]
    },
    {
      "cell_type": "code",
      "metadata": {
        "colab": {
          "base_uri": "https://localhost:8080/"
        },
        "id": "9tscg_7VZmvJ",
        "outputId": "0bd08683-45b9-4785-c1cc-f6185bb80d83"
      },
      "source": [
        "sv_per_step[-1] = set(sv_per_step[-1]) - set(['scale(I(ZN ** 2))'])\n",
        "model1 = sm.OLS(np.log1p(dfy), dfX[sv_per_step[-1]])\n",
        "result1 = model1.fit()\n",
        "print(result1.summary())"
      ],
      "execution_count": 13,
      "outputs": [
        {
          "output_type": "stream",
          "name": "stdout",
          "text": [
            "                            OLS Regression Results                            \n",
            "==============================================================================\n",
            "Dep. Variable:                   MEDV   R-squared:                       0.811\n",
            "Model:                            OLS   Adj. R-squared:                  0.807\n",
            "Method:                 Least Squares   F-statistic:                     212.6\n",
            "Date:                Thu, 09 Sep 2021   Prob (F-statistic):          4.87e-172\n",
            "Time:                        05:33:59   Log-Likelihood:                 184.63\n",
            "No. Observations:                 506   AIC:                            -347.3\n",
            "Df Residuals:                     495   BIC:                            -300.8\n",
            "Df Model:                          10                                         \n",
            "Covariance Type:            nonrobust                                         \n",
            "==========================================================================================\n",
            "                             coef    std err          t      P>|t|      [0.025      0.975]\n",
            "------------------------------------------------------------------------------------------\n",
            "scale(B)                   0.0318      0.009      3.630      0.000       0.015       0.049\n",
            "Intercept                  3.0790      0.008    392.608      0.000       3.064       3.094\n",
            "scale(np.sqrt(LSTAT))     -0.2167      0.013    -17.157      0.000      -0.242      -0.192\n",
            "scale(np.log(DIS))        -0.1246      0.014     -8.736      0.000      -0.153      -0.097\n",
            "scale(RAD)                 0.1201      0.020      6.048      0.000       0.081       0.159\n",
            "CHAS                       0.0937      0.031      3.059      0.002       0.034       0.154\n",
            "scale(RM)                  0.0505      0.010      4.858      0.000       0.030       0.071\n",
            "scale(CRIM)               -0.0945      0.010     -9.301      0.000      -0.114      -0.075\n",
            "scale(np.log(PTRATIO))    -0.0759      0.009     -8.094      0.000      -0.094      -0.057\n",
            "scale(NOX)                -0.1018      0.016     -6.472      0.000      -0.133      -0.071\n",
            "scale(TAX)                -0.0980      0.020     -4.888      0.000      -0.137      -0.059\n",
            "==============================================================================\n",
            "Omnibus:                       33.988   Durbin-Watson:                   1.152\n",
            "Prob(Omnibus):                  0.000   Jarque-Bera (JB):              128.967\n",
            "Skew:                           0.060   Prob(JB):                     9.89e-29\n",
            "Kurtosis:                       5.470   Cond. No.                         8.90\n",
            "==============================================================================\n",
            "\n",
            "Warnings:\n",
            "[1] Standard Errors assume that the covariance matrix of the errors is correctly specified.\n"
          ]
        }
      ]
    },
    {
      "cell_type": "markdown",
      "metadata": {
        "id": "o-wiq65DgDPV"
      },
      "source": [
        "----------\n",
        "다중공선성 확인하여 제일 큰것부터 하나씩 제거하여 5이상인 변수를 제거하겠습니다."
      ]
    },
    {
      "cell_type": "code",
      "metadata": {
        "colab": {
          "base_uri": "https://localhost:8080/",
          "height": 388
        },
        "id": "PE3TUdCbbTW_",
        "outputId": "2f892855-836f-43d6-9a16-b69f4c0bab2e"
      },
      "source": [
        "vif = pd.DataFrame()\n",
        "vif[\"VIF Factor\"] = [variance_inflation_factor(\n",
        "    dfX[sv_per_step[-1]].values, i) for i in range(dfX[sv_per_step[-1]].shape[1])]\n",
        "vif[\"features\"] = dfX[sv_per_step[-1]].columns\n",
        "vif = vif.sort_values(\"VIF Factor\").reset_index(drop=True)\n",
        "vif"
      ],
      "execution_count": 14,
      "outputs": [
        {
          "output_type": "execute_result",
          "data": {
            "text/html": [
              "<div>\n",
              "<style scoped>\n",
              "    .dataframe tbody tr th:only-of-type {\n",
              "        vertical-align: middle;\n",
              "    }\n",
              "\n",
              "    .dataframe tbody tr th {\n",
              "        vertical-align: top;\n",
              "    }\n",
              "\n",
              "    .dataframe thead th {\n",
              "        text-align: right;\n",
              "    }\n",
              "</style>\n",
              "<table border=\"1\" class=\"dataframe\">\n",
              "  <thead>\n",
              "    <tr style=\"text-align: right;\">\n",
              "      <th></th>\n",
              "      <th>VIF Factor</th>\n",
              "      <th>features</th>\n",
              "    </tr>\n",
              "  </thead>\n",
              "  <tbody>\n",
              "    <tr>\n",
              "      <th>0</th>\n",
              "      <td>1.058904</td>\n",
              "      <td>CHAS</td>\n",
              "    </tr>\n",
              "    <tr>\n",
              "      <th>1</th>\n",
              "      <td>1.078687</td>\n",
              "      <td>Intercept</td>\n",
              "    </tr>\n",
              "    <tr>\n",
              "      <th>2</th>\n",
              "      <td>1.346557</td>\n",
              "      <td>scale(B)</td>\n",
              "    </tr>\n",
              "    <tr>\n",
              "      <th>3</th>\n",
              "      <td>1.542090</td>\n",
              "      <td>scale(np.log(PTRATIO))</td>\n",
              "    </tr>\n",
              "    <tr>\n",
              "      <th>4</th>\n",
              "      <td>1.809947</td>\n",
              "      <td>scale(CRIM)</td>\n",
              "    </tr>\n",
              "    <tr>\n",
              "      <th>5</th>\n",
              "      <td>1.895805</td>\n",
              "      <td>scale(RM)</td>\n",
              "    </tr>\n",
              "    <tr>\n",
              "      <th>6</th>\n",
              "      <td>2.798698</td>\n",
              "      <td>scale(np.sqrt(LSTAT))</td>\n",
              "    </tr>\n",
              "    <tr>\n",
              "      <th>7</th>\n",
              "      <td>3.566790</td>\n",
              "      <td>scale(np.log(DIS))</td>\n",
              "    </tr>\n",
              "    <tr>\n",
              "      <th>8</th>\n",
              "      <td>4.341448</td>\n",
              "      <td>scale(NOX)</td>\n",
              "    </tr>\n",
              "    <tr>\n",
              "      <th>9</th>\n",
              "      <td>6.918274</td>\n",
              "      <td>scale(RAD)</td>\n",
              "    </tr>\n",
              "    <tr>\n",
              "      <th>10</th>\n",
              "      <td>7.052558</td>\n",
              "      <td>scale(TAX)</td>\n",
              "    </tr>\n",
              "  </tbody>\n",
              "</table>\n",
              "</div>"
            ],
            "text/plain": [
              "    VIF Factor                features\n",
              "0     1.058904                    CHAS\n",
              "1     1.078687               Intercept\n",
              "2     1.346557                scale(B)\n",
              "3     1.542090  scale(np.log(PTRATIO))\n",
              "4     1.809947             scale(CRIM)\n",
              "5     1.895805               scale(RM)\n",
              "6     2.798698   scale(np.sqrt(LSTAT))\n",
              "7     3.566790      scale(np.log(DIS))\n",
              "8     4.341448              scale(NOX)\n",
              "9     6.918274              scale(RAD)\n",
              "10    7.052558              scale(TAX)"
            ]
          },
          "metadata": {},
          "execution_count": 14
        }
      ]
    },
    {
      "cell_type": "code",
      "metadata": {
        "id": "PukuR94aggFM"
      },
      "source": [
        "VIF1 = vif.iloc[:-1, 1].values"
      ],
      "execution_count": 15,
      "outputs": []
    },
    {
      "cell_type": "code",
      "metadata": {
        "colab": {
          "base_uri": "https://localhost:8080/",
          "height": 357
        },
        "id": "m02rnatXgd0G",
        "outputId": "a51f6591-2f3b-43a4-9801-4df56ac4cd61"
      },
      "source": [
        "vif = pd.DataFrame()\n",
        "vif[\"VIF Factor\"] = [variance_inflation_factor(\n",
        "    dfX[VIF1].values, i) for i in range(dfX[VIF1].shape[1])]\n",
        "vif[\"features\"] = dfX[VIF1].columns\n",
        "vif = vif.sort_values(\"VIF Factor\").reset_index(drop=True)\n",
        "vif"
      ],
      "execution_count": 16,
      "outputs": [
        {
          "output_type": "execute_result",
          "data": {
            "text/html": [
              "<div>\n",
              "<style scoped>\n",
              "    .dataframe tbody tr th:only-of-type {\n",
              "        vertical-align: middle;\n",
              "    }\n",
              "\n",
              "    .dataframe tbody tr th {\n",
              "        vertical-align: top;\n",
              "    }\n",
              "\n",
              "    .dataframe thead th {\n",
              "        text-align: right;\n",
              "    }\n",
              "</style>\n",
              "<table border=\"1\" class=\"dataframe\">\n",
              "  <thead>\n",
              "    <tr style=\"text-align: right;\">\n",
              "      <th></th>\n",
              "      <th>VIF Factor</th>\n",
              "      <th>features</th>\n",
              "    </tr>\n",
              "  </thead>\n",
              "  <tbody>\n",
              "    <tr>\n",
              "      <th>0</th>\n",
              "      <td>1.049792</td>\n",
              "      <td>CHAS</td>\n",
              "    </tr>\n",
              "    <tr>\n",
              "      <th>1</th>\n",
              "      <td>1.078010</td>\n",
              "      <td>Intercept</td>\n",
              "    </tr>\n",
              "    <tr>\n",
              "      <th>2</th>\n",
              "      <td>1.343364</td>\n",
              "      <td>scale(B)</td>\n",
              "    </tr>\n",
              "    <tr>\n",
              "      <th>3</th>\n",
              "      <td>1.534189</td>\n",
              "      <td>scale(np.log(PTRATIO))</td>\n",
              "    </tr>\n",
              "    <tr>\n",
              "      <th>4</th>\n",
              "      <td>1.808154</td>\n",
              "      <td>scale(CRIM)</td>\n",
              "    </tr>\n",
              "    <tr>\n",
              "      <th>5</th>\n",
              "      <td>1.874766</td>\n",
              "      <td>scale(RM)</td>\n",
              "    </tr>\n",
              "    <tr>\n",
              "      <th>6</th>\n",
              "      <td>2.737322</td>\n",
              "      <td>scale(RAD)</td>\n",
              "    </tr>\n",
              "    <tr>\n",
              "      <th>7</th>\n",
              "      <td>2.796851</td>\n",
              "      <td>scale(np.sqrt(LSTAT))</td>\n",
              "    </tr>\n",
              "    <tr>\n",
              "      <th>8</th>\n",
              "      <td>3.532133</td>\n",
              "      <td>scale(np.log(DIS))</td>\n",
              "    </tr>\n",
              "    <tr>\n",
              "      <th>9</th>\n",
              "      <td>4.257284</td>\n",
              "      <td>scale(NOX)</td>\n",
              "    </tr>\n",
              "  </tbody>\n",
              "</table>\n",
              "</div>"
            ],
            "text/plain": [
              "   VIF Factor                features\n",
              "0    1.049792                    CHAS\n",
              "1    1.078010               Intercept\n",
              "2    1.343364                scale(B)\n",
              "3    1.534189  scale(np.log(PTRATIO))\n",
              "4    1.808154             scale(CRIM)\n",
              "5    1.874766               scale(RM)\n",
              "6    2.737322              scale(RAD)\n",
              "7    2.796851   scale(np.sqrt(LSTAT))\n",
              "8    3.532133      scale(np.log(DIS))\n",
              "9    4.257284              scale(NOX)"
            ]
          },
          "metadata": {},
          "execution_count": 16
        }
      ]
    },
    {
      "cell_type": "code",
      "metadata": {
        "colab": {
          "base_uri": "https://localhost:8080/"
        },
        "id": "TBjHwQjOgzDx",
        "outputId": "08d3c433-50c4-4a7c-a28d-3509ce1aa95d"
      },
      "source": [
        "model1 = sm.OLS(np.log1p(dfy), dfX[VIF1])\n",
        "result1 = model1.fit()\n",
        "print(result1.summary())"
      ],
      "execution_count": 17,
      "outputs": [
        {
          "output_type": "stream",
          "name": "stdout",
          "text": [
            "                            OLS Regression Results                            \n",
            "==============================================================================\n",
            "Dep. Variable:                   MEDV   R-squared:                       0.802\n",
            "Model:                            OLS   Adj. R-squared:                  0.798\n",
            "Method:                 Least Squares   F-statistic:                     223.3\n",
            "Date:                Thu, 09 Sep 2021   Prob (F-statistic):          3.53e-168\n",
            "Time:                        05:34:11   Log-Likelihood:                 172.70\n",
            "No. Observations:                 506   AIC:                            -325.4\n",
            "Df Residuals:                     496   BIC:                            -283.1\n",
            "Df Model:                           9                                         \n",
            "Covariance Type:            nonrobust                                         \n",
            "==========================================================================================\n",
            "                             coef    std err          t      P>|t|      [0.025      0.975]\n",
            "------------------------------------------------------------------------------------------\n",
            "CHAS                       0.1076      0.031      3.449      0.001       0.046       0.169\n",
            "Intercept                  3.0780      0.008    383.850      0.000       3.062       3.094\n",
            "scale(B)                   0.0339      0.009      3.786      0.000       0.016       0.051\n",
            "scale(np.log(PTRATIO))    -0.0792      0.010     -8.277      0.000      -0.098      -0.060\n",
            "scale(CRIM)               -0.0929      0.010     -8.948      0.000      -0.113      -0.073\n",
            "scale(RM)                  0.0559      0.011      5.282      0.000       0.035       0.077\n",
            "scale(np.sqrt(LSTAT))     -0.2183      0.013    -16.903      0.000      -0.244      -0.193\n",
            "scale(np.log(DIS))        -0.1177      0.015     -8.109      0.000      -0.146      -0.089\n",
            "scale(NOX)                -0.1125      0.016     -7.062      0.000      -0.144      -0.081\n",
            "scale(RAD)                 0.0447      0.013      3.495      0.001       0.020       0.070\n",
            "==============================================================================\n",
            "Omnibus:                       33.407   Durbin-Watson:                   1.143\n",
            "Prob(Omnibus):                  0.000   Jarque-Bera (JB):              126.665\n",
            "Skew:                           0.001   Prob(JB):                     3.13e-28\n",
            "Kurtosis:                       5.451   Cond. No.                         8.03\n",
            "==============================================================================\n",
            "\n",
            "Warnings:\n",
            "[1] Standard Errors assume that the covariance matrix of the errors is correctly specified.\n"
          ]
        }
      ]
    },
    {
      "cell_type": "markdown",
      "metadata": {
        "id": "t4qOig2wDQAF"
      },
      "source": [
        "다중공선성 및 p-value값을 만족하는 변수만을 추출하여 최종모델을 생성하였습니다.  \n",
        "이 과정에서 유의수준을 몇으로 할건지 등 분석자의 관점이 다소 개입하는 것을 알 수 있습니다.  "
      ]
    },
    {
      "cell_type": "markdown",
      "metadata": {
        "id": "bzJ5cww1YYqr"
      },
      "source": [
        "## 머신러닝 기법\n",
        "\n",
        "머신러닝 기법에는 Ridge, Lasso, Elasticnet이 있습니다.  \n",
        "위 기법의 의의는 데이터 변동성에 대한 민감도를 줄이기 위함입니다.  \n",
        "\n",
        "저희가 앞서 진행한 회귀모델은 실제값과 예측값의 차이를 줄이는 것에만 치중하다보니 데이터 변동성에 민감해졌습니다. 이러한 문제점을 개선하기 위해서 잔차의 최소화하고 회귀계수값의 과적합을 방지하는 방법을 사용해야합니다. 위 머신러닝 기법은 아래와 같이 이를 적용합니다.  \n",
        "\n",
        "목표: MIN(RSS(W) + alpha * ||W||), 손실비용함수(오차제곱합-MSE) 최소  \n",
        "[수식참고 사이트](https://towardsdatascience.com/ridge-and-lasso-regression-a-complete-guide-with-python-scikit-learn-e20e34bcbf0b)\n",
        "\n",
        "Ridge는 L2-정규화로 회귀계수의 제곱값에 페널티를 부여하여 과적합을 방지합니다.  \n",
        "Ridge의 페널티 값이 0이면 기존 손실비용함수와 같아집니다. 반대로, 페널티 값이 커지면 서로 영향을 미치는 독립변수들의 가중치가 줄어들어 다중공선성이 낮아집니다.  \n",
        "\n",
        "Lasso는 L1-정규화로 회귀계수의 절댓값에 페널티를 부여하여 과적합을 방지합니다. \n",
        "\n",
        "둘의 차이는 Ridge는 회귀계수를 무한히 작게할 수 있지만 0이 되지 않는 반면에, Lasso는 회귀계수를 0으로 만들 수 있다는 것입니다. 이는 곧 변수선택의 기능이 있다는 것입니다. \n",
        "\n",
        "이 둘의 장점을 섞은 것이 Elasticnet입니다.\n",
        "\n",
        "위 기법들을 진행해보겠습니다."
      ]
    },
    {
      "cell_type": "code",
      "metadata": {
        "id": "iHvilLIrK80t"
      },
      "source": [
        "xtrain, xtest, ytrain, ytest = train_test_split(dfX, dfy, test_size=0.2,random_state=3)\n",
        "\n",
        "alphas = [0, 0.0001, 0.001, 0.01, 0.1, 0.3, 0.5, 0.7, 1, 10]"
      ],
      "execution_count": 35,
      "outputs": []
    },
    {
      "cell_type": "code",
      "metadata": {
        "colab": {
          "base_uri": "https://localhost:8080/"
        },
        "id": "AQiuU3f8L3Gl",
        "outputId": "156c17e0-a681-4607-9d7c-2d3bafccd9ba"
      },
      "source": [
        "for a in alphas:\n",
        "  model = Ridge(alpha=a).fit(xtrain,ytrain)\n",
        "  score = model.score(xtrain, ytrain)\n",
        "  pred_y = model.predict(xtest)\n",
        "  mse = mean_squared_error(ytest, pred_y)\n",
        "  print(\"Alpha:{0:.4f}, R2:{1:.2f}, MSE:{2:.2f}, RMSE:{3:.2f}\"\n",
        "  .format(a, score, mse, np.sqrt(mse)))"
      ],
      "execution_count": 36,
      "outputs": [
        {
          "output_type": "stream",
          "name": "stdout",
          "text": [
            "Alpha:0.0000, R2:0.77, MSE:13.32, RMSE:3.65\n",
            "Alpha:0.0001, R2:0.77, MSE:13.32, RMSE:3.65\n",
            "Alpha:0.0010, R2:0.77, MSE:13.32, RMSE:3.65\n",
            "Alpha:0.0100, R2:0.77, MSE:13.32, RMSE:3.65\n",
            "Alpha:0.1000, R2:0.77, MSE:13.32, RMSE:3.65\n",
            "Alpha:0.3000, R2:0.77, MSE:13.31, RMSE:3.65\n",
            "Alpha:0.5000, R2:0.77, MSE:13.30, RMSE:3.65\n",
            "Alpha:0.7000, R2:0.77, MSE:13.29, RMSE:3.65\n",
            "Alpha:1.0000, R2:0.77, MSE:13.27, RMSE:3.64\n",
            "Alpha:10.0000, R2:0.77, MSE:13.36, RMSE:3.65\n"
          ]
        }
      ]
    },
    {
      "cell_type": "code",
      "metadata": {
        "colab": {
          "base_uri": "https://localhost:8080/"
        },
        "id": "Gy925vBPM487",
        "outputId": "1a395c6d-7246-445e-c584-762a614bbf1c"
      },
      "source": [
        "ridge_cv=RidgeCV(alphas=alphas, cv=5)\n",
        "model = ridge_cv.fit(xtrain, ytrain)\n",
        "print(model.alpha_)"
      ],
      "execution_count": 25,
      "outputs": [
        {
          "output_type": "stream",
          "name": "stdout",
          "text": [
            "1.0\n"
          ]
        }
      ]
    },
    {
      "cell_type": "code",
      "metadata": {
        "colab": {
          "base_uri": "https://localhost:8080/"
        },
        "id": "oh6qOjprNEQV",
        "outputId": "13c35486-b43a-411d-a916-21558bf656db"
      },
      "source": [
        "lasso_cv=LassoCV(alphas=alphas, cv=5)\n",
        "model = lasso_cv.fit(xtrain, ytrain)\n",
        "print(model.alpha_)"
      ],
      "execution_count": 26,
      "outputs": [
        {
          "output_type": "stream",
          "name": "stdout",
          "text": [
            "0.01\n"
          ]
        }
      ]
    },
    {
      "cell_type": "code",
      "metadata": {
        "colab": {
          "base_uri": "https://localhost:8080/"
        },
        "id": "YBECUHu1NJ2w",
        "outputId": "b43bcf7a-09a2-4b93-ba69-2cb42fc0aed5"
      },
      "source": [
        "elasticnet_cv=ElasticNetCV(alphas=alphas, cv=5)\n",
        "model = elasticnet_cv.fit(xtrain, ytrain)\n",
        "print(model.alpha_)"
      ],
      "execution_count": 32,
      "outputs": [
        {
          "output_type": "stream",
          "name": "stdout",
          "text": [
            "0.01\n"
          ]
        }
      ]
    },
    {
      "cell_type": "code",
      "metadata": {
        "colab": {
          "base_uri": "https://localhost:8080/"
        },
        "id": "wOehWi9_R8Ep",
        "outputId": "71db2d27-ec26-4d83-a380-9a03020eb08b"
      },
      "source": [
        "ridge=Ridge(alpha=1).fit(xtrain, ytrain)\n",
        "ypred_ridge = ridge.predict(xtest)\n",
        "score_ridge = ridge.score(xtest, ytest)\n",
        "mse_ridge = mean_squared_error(ytest, ypred_ridge)\n",
        "print(\"Final Result: Ridge R2:{0:.3f}, MSE:{1:.2f}, RMSE:{2:.2f}\"\n",
        ".format(score_ridge, mse_ridge, np.sqrt(mse_ridge)))"
      ],
      "execution_count": 80,
      "outputs": [
        {
          "output_type": "stream",
          "name": "stdout",
          "text": [
            "Final Result: Ridge R2:0.840, MSE:13.27, RMSE:3.64\n"
          ]
        }
      ]
    },
    {
      "cell_type": "code",
      "metadata": {
        "colab": {
          "base_uri": "https://localhost:8080/"
        },
        "id": "By03Q6SzSaiA",
        "outputId": "1d47c3f8-8c76-49f1-9512-e19ddd0188bc"
      },
      "source": [
        "ela=ElasticNet(alpha=0.0).fit(xtrain, ytrain)\n",
        "ypred_ela = ela.predict(xtest)\n",
        "score_ela = ela.score(xtest, ytest)\n",
        "mse_ela = mean_squared_error(ytest, ypred_ela)\n",
        "print(\"Final Result: Ridge R2:{0:.3f}, MSE:{1:.2f}, RMSE:{2:.2f}\"\n",
        ".format(score_ela, mse_ela, np.sqrt(mse_ela)))"
      ],
      "execution_count": 44,
      "outputs": [
        {
          "output_type": "stream",
          "name": "stdout",
          "text": [
            "Final Result: Ridge R2:0.841, MSE:13.17, RMSE:3.63\n"
          ]
        }
      ]
    },
    {
      "cell_type": "markdown",
      "metadata": {
        "id": "MW44YAQdSLHS"
      },
      "source": [
        "위 결과를 보면 통계적기법으로 했을때보다 더 좋은 성능이 나왔다는 것을 볼 수 있다. 하지만, 과정중에 변수를 제거하거나 별도로 다중공선성을 체크하거나 하지 않고 알파값 최적만으로도 위 결과를 얻을 수 있습니다. \n"
      ]
    },
    {
      "cell_type": "markdown",
      "metadata": {
        "id": "R4bphFzsYmQ2"
      },
      "source": [
        "# 결론\n",
        "\n",
        "전통적 통계기법 최종결과: 0.807\n",
        "머신러닝 기법 최종결롸: 0.84\n",
        "\n",
        "이제까지 전통적 통계기법과 머신러닝 기법을 비교해 보았습니다.  \n",
        "어떤 기법이 우수하다고 콕찝어서 말할 수는 없습니다.  \n",
        "\n",
        "상황에 맞게 적절히 병행해서 사용하면 우수한 분석을 진행할 수 있으리라 생각합니다."
      ]
    },
    {
      "cell_type": "code",
      "metadata": {
        "id": "xNpAJR_sl1y8"
      },
      "source": [
        ""
      ],
      "execution_count": null,
      "outputs": []
    }
  ]
}